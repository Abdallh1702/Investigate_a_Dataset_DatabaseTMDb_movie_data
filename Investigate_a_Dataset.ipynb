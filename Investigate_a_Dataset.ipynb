{
 "cells": [
  {
   "cell_type": "markdown",
   "metadata": {},
   "source": [
    "> **Tip**: Welcome to the Investigate a Dataset project! You will find tips in quoted sections like this to help organize your approach to your investigation. Once you complete this project, remove these **Tip** sections from your report before submission. First things first, you might want to double-click this Markdown cell and change the title so that it reflects your dataset and investigation.\n",
    "\n",
    "# Project: Investigate a Dataset - [TMDb_Movies Data]\n",
    "\n",
    "## Table of Contents\n",
    "<ul>\n",
    "<li><a href=\"#intro\">Introduction</a></li>\n",
    "<li><a href=\"#wrangling\">Data Wrangling</a></li>\n",
    "<li><a href=\"#eda\">Exploratory Data Analysis</a></li>\n",
    "<li><a href=\"#conclusions\">Conclusions</a></li>\n",
    "</ul>"
   ]
  },
  {
   "cell_type": "markdown",
   "metadata": {},
   "source": [
    "<a id='intro'></a>\n",
    "## Introduction\n",
    "\n",
    "### Dataset Description \n",
    "\n",
    "> **Tip**: In this section of the report, provide a brief introduction to the dataset you've selected/downloaded for analysis. Read through the description available on the homepage-links present [here](https://docs.google.com/document/d/e/2PACX-1vTlVmknRRnfy_4eTrjw5hYGaiQim5ctr9naaRd4V9du2B5bxpd8FEH3KtDgp8qVekw7Cj1GLk1IXdZi/pub?embedded=True). List all column names in each table, and their significance. In case of multiple tables, describe the relationship between tables.\n",
    "This data set contains information about 10,000 movies collected from The Movie Database (TMDb), including user ratings and revenue.\n",
    "\n",
    "Certain columns, like ‘cast’ and ‘genres’, contain multiple values separated by pipe (|) characters.\n",
    "There are some odd characters in the ‘cast’ column. Don’t worry about cleaning them. You can leave them as is.\n",
    "The final two columns ending with “_adj” show the budget and revenue of the associated movie in terms of 2010 dollars, accounting for inflation over time.\n",
    "\n",
    "\n",
    "### Question(s) for Analysis\n",
    ">**Tip**: Clearly state one or more questions that you plan on exploring over the course of the report. You will address these questions in the **data analysis** and **conclusion** sections. Try to build your report around the analysis of at least one dependent variable and three independent variables. If you're not sure what questions to ask, then make sure you familiarize yourself with the dataset, its variables and the dataset context for ideas of what to explore.\n",
    "\n",
    "> **Tip**: Once you start coding, use NumPy arrays, Pandas Series, and DataFrames where appropriate rather than Python lists and dictionaries. Also, **use good coding practices**, such as, define and use functions to avoid repetitive code. Use appropriate comments within the code cells, explanation in the mark-down cells, and meaningful variable names. \n",
    "\n",
    "> which had most and least profit ?                 \n",
    "> Movies with largest and lowest budgets ?                 \n",
    "> Movies with longest and shortest runtime ?                 \n",
    "> Movies with most and least earned revenue ?                   \n",
    "> Average runtime of the movies ?                               \n",
    "> Most popular genres over the years Vs Genres ?                       \n",
    "> Months vs Number Of Movie Releases ?                         \n",
    "> Year of release vs Profitability ?                                \n",
    "> Succesful Genres ?                                     \n",
    "> Most Frequent Cast ?                                                \n",
    "> Budget of the movies ?                                         \n",
    "> duration of the movies ?                         \n",
    "> Revenue earned by the movies ?                            "
   ]
  },
  {
   "cell_type": "code",
   "execution_count": 69,
   "metadata": {},
   "outputs": [],
   "source": [
    "# Use this cell to set up import statements for all of the packages that you\n",
    "#   plan to use.\n",
    "\n",
    "# Remember to include a 'magic word' so that your visualizations are plotted\n",
    "#   inline with the notebook. See this page for more:\n",
    "#   http://ipython.readthedocs.io/en/stable/interactive/magics.html\n",
    "import pandas as pd\n",
    "import numpy as np\n",
    "import csv\n",
    "from datetime import datetime\n",
    "import matplotlib.pyplot as plt\n",
    "import seaborn as sns"
   ]
  },
  {
   "cell_type": "code",
   "execution_count": 70,
   "metadata": {},
   "outputs": [
    {
     "name": "stdout",
     "output_type": "stream",
     "text": [
      "Requirement already up-to-date: pandas==0.25.0 in /opt/conda/lib/python3.6/site-packages (0.25.0)\n",
      "Requirement already satisfied, skipping upgrade: numpy>=1.13.3 in /opt/conda/lib/python3.6/site-packages (from pandas==0.25.0) (1.19.5)\n",
      "Requirement already satisfied, skipping upgrade: python-dateutil>=2.6.1 in /opt/conda/lib/python3.6/site-packages (from pandas==0.25.0) (2.6.1)\n",
      "Requirement already satisfied, skipping upgrade: pytz>=2017.2 in /opt/conda/lib/python3.6/site-packages (from pandas==0.25.0) (2017.3)\n",
      "Requirement already satisfied, skipping upgrade: six>=1.5 in /opt/conda/lib/python3.6/site-packages (from python-dateutil>=2.6.1->pandas==0.25.0) (1.11.0)\n"
     ]
    }
   ],
   "source": [
    "# Upgrade pandas to use dataframe.explode() function. \n",
    "!pip install --upgrade pandas==0.25.0"
   ]
  },
  {
   "cell_type": "code",
   "execution_count": 71,
   "metadata": {
    "scrolled": true
   },
   "outputs": [
    {
     "name": "stdout",
     "output_type": "stream",
     "text": [
      "       id    imdb_id  popularity     budget     revenue  \\\n",
      "0  135397  tt0369610   32.985763  150000000  1513528810   \n",
      "1   76341  tt1392190   28.419936  150000000   378436354   \n",
      "2  262500  tt2908446   13.112507  110000000   295238201   \n",
      "3  140607  tt2488496   11.173104  200000000  2068178225   \n",
      "4  168259  tt2820852    9.335014  190000000  1506249360   \n",
      "\n",
      "                 original_title  \\\n",
      "0                Jurassic World   \n",
      "1            Mad Max: Fury Road   \n",
      "2                     Insurgent   \n",
      "3  Star Wars: The Force Awakens   \n",
      "4                     Furious 7   \n",
      "\n",
      "                                                cast  \\\n",
      "0  Chris Pratt|Bryce Dallas Howard|Irrfan Khan|Vi...   \n",
      "1  Tom Hardy|Charlize Theron|Hugh Keays-Byrne|Nic...   \n",
      "2  Shailene Woodley|Theo James|Kate Winslet|Ansel...   \n",
      "3  Harrison Ford|Mark Hamill|Carrie Fisher|Adam D...   \n",
      "4  Vin Diesel|Paul Walker|Jason Statham|Michelle ...   \n",
      "\n",
      "                                            homepage          director  \\\n",
      "0                      http://www.jurassicworld.com/   Colin Trevorrow   \n",
      "1                        http://www.madmaxmovie.com/     George Miller   \n",
      "2     http://www.thedivergentseries.movie/#insurgent  Robert Schwentke   \n",
      "3  http://www.starwars.com/films/star-wars-episod...       J.J. Abrams   \n",
      "4                           http://www.furious7.com/         James Wan   \n",
      "\n",
      "                         tagline  ...  \\\n",
      "0              The park is open.  ...   \n",
      "1             What a Lovely Day.  ...   \n",
      "2     One Choice Can Destroy You  ...   \n",
      "3  Every generation has a story.  ...   \n",
      "4            Vengeance Hits Home  ...   \n",
      "\n",
      "                                            overview runtime  \\\n",
      "0  Twenty-two years after the events of Jurassic ...     124   \n",
      "1  An apocalyptic story set in the furthest reach...     120   \n",
      "2  Beatrice Prior must confront her inner demons ...     119   \n",
      "3  Thirty years after defeating the Galactic Empi...     136   \n",
      "4  Deckard Shaw seeks revenge against Dominic Tor...     137   \n",
      "\n",
      "                                      genres  \\\n",
      "0  Action|Adventure|Science Fiction|Thriller   \n",
      "1  Action|Adventure|Science Fiction|Thriller   \n",
      "2         Adventure|Science Fiction|Thriller   \n",
      "3   Action|Adventure|Science Fiction|Fantasy   \n",
      "4                      Action|Crime|Thriller   \n",
      "\n",
      "                                production_companies release_date vote_count  \\\n",
      "0  Universal Studios|Amblin Entertainment|Legenda...       6/9/15       5562   \n",
      "1  Village Roadshow Pictures|Kennedy Miller Produ...      5/13/15       6185   \n",
      "2  Summit Entertainment|Mandeville Films|Red Wago...      3/18/15       2480   \n",
      "3          Lucasfilm|Truenorth Productions|Bad Robot     12/15/15       5292   \n",
      "4  Universal Pictures|Original Film|Media Rights ...       4/1/15       2947   \n",
      "\n",
      "   vote_average  release_year    budget_adj   revenue_adj  \n",
      "0           6.5          2015  1.379999e+08  1.392446e+09  \n",
      "1           7.1          2015  1.379999e+08  3.481613e+08  \n",
      "2           6.3          2015  1.012000e+08  2.716190e+08  \n",
      "3           7.5          2015  1.839999e+08  1.902723e+09  \n",
      "4           7.3          2015  1.747999e+08  1.385749e+09  \n",
      "\n",
      "[5 rows x 21 columns]\n",
      "-------------------------\n"
     ]
    }
   ],
   "source": [
    "# Load your data and print out a few lines. Perform operations to inspect data\n",
    "#   types and look for instances of missing or possibly errant data.\n",
    "\n",
    "#loading the csv file\n",
    "data = pd.read_csv('tmdb-movies.csv')\n",
    "#printing first five rows with defined\n",
    "print(data.head())\n",
    "print('-------------------------')"
   ]
  },
  {
   "cell_type": "markdown",
   "metadata": {},
   "source": [
    " # Observations\n",
    "\n",
    "1) It is not possible to rely on the feature of voting for films because it is not standardized         \n",
    "2) No unit of currency  in the dataset (I'll assume it's the dollar) \n",
    "\n",
    "\n",
    "### Data Cleaning\n",
    "> **Tip**: Make sure that you keep your reader informed on the steps that you are taking in your investigation. Follow every code cell, or every set of related code cells, with a markdown cell to describe to the reader what was found in the preceding cell(s). Try to make it so that the reader can then understand what they will be seeing in the following cell(s).\n",
    "\n",
    "> We need to remove unused column such .         \n",
    "> Removing the duplicacy in the rows(if any).     \n",
    "> Some movies in the database have zero budget or zero revenue, that is there value has not been recorded so we will be    \n",
    "> discarding such entries    \n",
    "> Changing release date column into date format.     \n",
    "> Replacing zero with NAN in runtime column.         \n",
    "> Changing format of budget and revenue column       \n",
    "\n",
    ">1. Removing Unused columns\n",
    "\n",
    "> remove the unused colums that are not needes in the analysis process\n",
    " \n",
    "      "
   ]
  },
  {
   "cell_type": "markdown",
   "metadata": {},
   "source": [
    "> This data is not used and must be maintained"
   ]
  },
  {
   "cell_type": "code",
   "execution_count": 72,
   "metadata": {
    "scrolled": false
   },
   "outputs": [
    {
     "name": "stdout",
     "output_type": "stream",
     "text": [
      "      budget     revenue                original_title  \\\n",
      "0  150000000  1513528810                Jurassic World   \n",
      "1  150000000   378436354            Mad Max: Fury Road   \n",
      "2  110000000   295238201                     Insurgent   \n",
      "3  200000000  2068178225  Star Wars: The Force Awakens   \n",
      "\n",
      "                                                cast          director  \\\n",
      "0  Chris Pratt|Bryce Dallas Howard|Irrfan Khan|Vi...   Colin Trevorrow   \n",
      "1  Tom Hardy|Charlize Theron|Hugh Keays-Byrne|Nic...     George Miller   \n",
      "2  Shailene Woodley|Theo James|Kate Winslet|Ansel...  Robert Schwentke   \n",
      "3  Harrison Ford|Mark Hamill|Carrie Fisher|Adam D...       J.J. Abrams   \n",
      "\n",
      "                         tagline  runtime  \\\n",
      "0              The park is open.      124   \n",
      "1             What a Lovely Day.      120   \n",
      "2     One Choice Can Destroy You      119   \n",
      "3  Every generation has a story.      136   \n",
      "\n",
      "                                      genres  \\\n",
      "0  Action|Adventure|Science Fiction|Thriller   \n",
      "1  Action|Adventure|Science Fiction|Thriller   \n",
      "2         Adventure|Science Fiction|Thriller   \n",
      "3   Action|Adventure|Science Fiction|Fantasy   \n",
      "\n",
      "                                production_companies release_date  vote_count  \\\n",
      "0  Universal Studios|Amblin Entertainment|Legenda...       6/9/15        5562   \n",
      "1  Village Roadshow Pictures|Kennedy Miller Produ...      5/13/15        6185   \n",
      "2  Summit Entertainment|Mandeville Films|Red Wago...      3/18/15        2480   \n",
      "3          Lucasfilm|Truenorth Productions|Bad Robot     12/15/15        5292   \n",
      "\n",
      "   release_year  \n",
      "0          2015  \n",
      "1          2015  \n",
      "2          2015  \n",
      "3          2015  \n"
     ]
    }
   ],
   "source": [
    "# After discussing the structure of the data and any problems that need to be\n",
    "#   cleaned, perform those cleaning steps in the second part of this section.\n",
    "\n",
    "# Remove unwanted data\n",
    "delete_colom = [ 'id', 'imdb_id', 'popularity', 'budget_adj', 'revenue_adj', 'homepage', 'keywords', 'overview', 'vote_average']\n",
    "\n",
    "data= data.drop(delete_colom,1)\n",
    "print(data.head(4))"
   ]
  },
  {
   "cell_type": "markdown",
   "metadata": {},
   "source": [
    "> Data just got easier to handle"
   ]
  },
  {
   "cell_type": "markdown",
   "metadata": {},
   "source": [
    "\n",
    "## Data Wrangling\n",
    "\n",
    "> **Tip**: In this section of the report, you will load in the data, check for cleanliness, and then trim and clean your dataset for analysis. Make sure that you **document your data cleaning steps in mark-down cells precisely and justify your cleaning decisions.**\n",
    "\n",
    "\n",
    "### General Properties\n",
    "> **Tip**: You should _not_ perform too many operations in each cell. Create cells freely to explore your data. One option that you can take with this project is to do a lot of explorations in an initial notebook. These don't have to be organized, but make sure you use enough comments to understand the purpose of each code cell. Then, after you're done with your analysis, create a duplicate notebook where you will trim the excess and organize your steps so that you have a flowing, cohesive report.\n",
    "\n",
    ">2. Removing the duplicacy in the rows(if any).\n",
    "\n",
    "> The number of entries in the database"
   ]
  },
  {
   "cell_type": "markdown",
   "metadata": {},
   "source": [
    ">The number of entries in the database must be known, dealt with and analyzed"
   ]
  },
  {
   "cell_type": "code",
   "execution_count": 73,
   "metadata": {
    "scrolled": true
   },
   "outputs": [
    {
     "name": "stdout",
     "output_type": "stream",
     "text": [
      "The  total entries of movies 10865 and 12 no.of columns in it.\n",
      "-------------------------\n"
     ]
    }
   ],
   "source": [
    "rows, colom = data.shape\n",
    "#We need to reduce the count of row by one.\n",
    "print('The  total entries of movies {} and {} no.of columns in it.'.format(rows-1, colom))\n",
    "print('-------------------------')"
   ]
  },
  {
   "cell_type": "markdown",
   "metadata": {},
   "source": [
    " >After analysis, it was discovered that there are 10,865 entries in total for films and 10 columns in them."
   ]
  },
  {
   "cell_type": "markdown",
   "metadata": {},
   "source": [
    "> Now removing the duplicate rows if any"
   ]
  },
  {
   "cell_type": "code",
   "execution_count": 74,
   "metadata": {
    "scrolled": false
   },
   "outputs": [
    {
     "name": "stdout",
     "output_type": "stream",
     "text": [
      "The now total entries of movies 10864 and 12 no.of columns in it.\n",
      "-------------------------\n"
     ]
    }
   ],
   "source": [
    "data.drop_duplicates(keep ='first', inplace=True)\n",
    "rows, colom = data.shape\n",
    "\n",
    "print('The now total entries of movies {} and {} no.of columns in it.'.format(rows-1, colom))\n",
    "print('-------------------------')\n"
   ]
  },
  {
   "cell_type": "markdown",
   "metadata": {},
   "source": [
    "> After deletion, there are a total of 10,864 entries for the films and 10 columns in them."
   ]
  },
  {
   "cell_type": "markdown",
   "metadata": {},
   "source": [
    "> So there was a duplicate row and it has been removed now."
   ]
  },
  {
   "cell_type": "markdown",
   "metadata": {},
   "source": [
    ">3 Removing 0's from budget and the revenue columns"
   ]
  },
  {
   "cell_type": "code",
   "execution_count": 75,
   "metadata": {
    "scrolled": true
   },
   "outputs": [
    {
     "name": "stdout",
     "output_type": "stream",
     "text": [
      " now have only 3853 no.of movies.\n",
      "-------------------------\n"
     ]
    }
   ],
   "source": [
    "# creating a seperate list of revenue and budget column\n",
    "\n",
    "temp_list=['budget', 'revenue']\n",
    "\n",
    "data[temp_list] = data[temp_list].replace(0, np.NAN)\n",
    "\n",
    "\n",
    "data.dropna(subset = temp_list, inplace = True)\n",
    "\n",
    "rows, colom = data.shape\n",
    "print(' now have only {} no.of movies.'.format(rows-1))\n",
    "print('-------------------------')"
   ]
  },
  {
   "cell_type": "markdown",
   "metadata": {},
   "source": [
    "> And after all this deletion, why after removing these entries, only 3853 movie numbers are left."
   ]
  },
  {
   "cell_type": "markdown",
   "metadata": {},
   "source": [
    ">4. Changing the release date column "
   ]
  },
  {
   "cell_type": "code",
   "execution_count": 76,
   "metadata": {
    "scrolled": true
   },
   "outputs": [
    {
     "name": "stdout",
     "output_type": "stream",
     "text": [
      "        budget       revenue      original_title  \\\n",
      "0  150000000.0  1.513529e+09      Jurassic World   \n",
      "1  150000000.0  3.784364e+08  Mad Max: Fury Road   \n",
      "2  110000000.0  2.952382e+08           Insurgent   \n",
      "\n",
      "                                                cast          director  \\\n",
      "0  Chris Pratt|Bryce Dallas Howard|Irrfan Khan|Vi...   Colin Trevorrow   \n",
      "1  Tom Hardy|Charlize Theron|Hugh Keays-Byrne|Nic...     George Miller   \n",
      "2  Shailene Woodley|Theo James|Kate Winslet|Ansel...  Robert Schwentke   \n",
      "\n",
      "                      tagline  runtime  \\\n",
      "0           The park is open.      124   \n",
      "1          What a Lovely Day.      120   \n",
      "2  One Choice Can Destroy You      119   \n",
      "\n",
      "                                      genres  \\\n",
      "0  Action|Adventure|Science Fiction|Thriller   \n",
      "1  Action|Adventure|Science Fiction|Thriller   \n",
      "2         Adventure|Science Fiction|Thriller   \n",
      "\n",
      "                                production_companies release_date  vote_count  \\\n",
      "0  Universal Studios|Amblin Entertainment|Legenda...   2015-06-09        5562   \n",
      "1  Village Roadshow Pictures|Kennedy Miller Produ...   2015-05-13        6185   \n",
      "2  Summit Entertainment|Mandeville Films|Red Wago...   2015-03-18        2480   \n",
      "\n",
      "   release_year  \n",
      "0          2015  \n",
      "1          2015  \n",
      "2          2015  \n",
      "-------------------------\n"
     ]
    }
   ],
   "source": [
    "data.release_date = pd.to_datetime(data['release_date'])\n",
    "#print this chang\n",
    "print(data.head(3))\n",
    "print('-------------------------')"
   ]
  },
  {
   "cell_type": "markdown",
   "metadata": {},
   "source": [
    ">5. Replacing zero with NAN in runtime column."
   ]
  },
  {
   "cell_type": "code",
   "execution_count": 77,
   "metadata": {
    "scrolled": true
   },
   "outputs": [
    {
     "name": "stdout",
     "output_type": "stream",
     "text": [
      "budget                         float64\n",
      "revenue                        float64\n",
      "original_title                  object\n",
      "cast                            object\n",
      "director                        object\n",
      "tagline                         object\n",
      "runtime                          int64\n",
      "genres                          object\n",
      "production_companies            object\n",
      "release_date            datetime64[ns]\n",
      "vote_count                       int64\n",
      "release_year                     int64\n",
      "dtype: object\n",
      "-------------------------\n"
     ]
    }
   ],
   "source": [
    "# Replacing zero with NAN in runtime column.\n",
    "data['runtime'] = data['runtime'].replace(0, np.NAN)\n",
    "#print the data type\n",
    "print(data.dtypes)\n",
    "print('-------------------------')"
   ]
  },
  {
   "cell_type": "markdown",
   "metadata": {},
   "source": [
    ">we need to change budget and revenue to (int64)"
   ]
  },
  {
   "cell_type": "code",
   "execution_count": 78,
   "metadata": {},
   "outputs": [
    {
     "name": "stdout",
     "output_type": "stream",
     "text": [
      "budget                           int64\n",
      "revenue                          int64\n",
      "original_title                  object\n",
      "cast                            object\n",
      "director                        object\n",
      "tagline                         object\n",
      "runtime                          int64\n",
      "genres                          object\n",
      "production_companies            object\n",
      "release_date            datetime64[ns]\n",
      "vote_count                       int64\n",
      "release_year                     int64\n",
      "dtype: object\n",
      "-------------------------\n"
     ]
    }
   ],
   "source": [
    "#changing data type  (float64 to int64)\n",
    "change_of_type=['budget', 'revenue']\n",
    "data[change_of_type]= data[change_of_type].applymap(np.int64)\n",
    "#After this change\n",
    "print(data.dtypes)\n",
    "print('-------------------------')\n"
   ]
  },
  {
   "cell_type": "markdown",
   "metadata": {},
   "source": [
    ">Changes done (budget, revenue)"
   ]
  },
  {
   "cell_type": "markdown",
   "metadata": {},
   "source": [
    "<a id='eda'></a>\n",
    "## Exploratory Data Analysis\n",
    "\n",
    "> **Tip**: Now that you've trimmed and cleaned your data, you're ready to move on to exploration. **Compute statistics** and **create visualizations** with the goal of addressing the research questions that you posed in the Introduction section. You should compute the relevant statistics throughout the analysis when an inference is made about the data. Note that at least two or more kinds of plots should be created as part of the exploration, and you must  compare and show trends in the varied visualizations. \n",
    "\n",
    "\n",
    "\n",
    "> **Tip**: - Investigate the stated question(s) from multiple angles. It is recommended that you be systematic with your approach. Look at one variable at a time, and then follow it up by looking at relationships between variables. You should explore at least three variables in relation to the primary question. This can be an exploratory relationship between three variables of interest, or looking at how two independent variables relate to a single dependent variable of interest. Lastly, you  should perform both single-variable (1d) and multiple-variable (2d) explorations.\n",
    "\n",
    "\n",
    "### Research Question 1 (Movies which had most and least profit)\n",
    "\n",
    "> Calculating the profit of one movie"
   ]
  },
  {
   "cell_type": "markdown",
   "metadata": {},
   "source": [
    ">insert function with three parameters(index of the column in the dataset, name of the column, value to be inserted)"
   ]
  },
  {
   "cell_type": "code",
   "execution_count": 79,
   "metadata": {
    "scrolled": false
   },
   "outputs": [
    {
     "name": "stdout",
     "output_type": "stream",
     "text": [
      "      budget     revenue  profit_earned      original_title  \\\n",
      "0  150000000  1513528810     1363528810      Jurassic World   \n",
      "1  150000000   378436354      228436354  Mad Max: Fury Road   \n",
      "\n",
      "                                                cast         director  \\\n",
      "0  Chris Pratt|Bryce Dallas Howard|Irrfan Khan|Vi...  Colin Trevorrow   \n",
      "1  Tom Hardy|Charlize Theron|Hugh Keays-Byrne|Nic...    George Miller   \n",
      "\n",
      "              tagline  runtime                                     genres  \\\n",
      "0   The park is open.      124  Action|Adventure|Science Fiction|Thriller   \n",
      "1  What a Lovely Day.      120  Action|Adventure|Science Fiction|Thriller   \n",
      "\n",
      "                                production_companies release_date  vote_count  \\\n",
      "0  Universal Studios|Amblin Entertainment|Legenda...   2015-06-09        5562   \n",
      "1  Village Roadshow Pictures|Kennedy Miller Produ...   2015-05-13        6185   \n",
      "\n",
      "   release_year  \n",
      "0          2015  \n",
      "1          2015  \n",
      "-------------------------\n"
     ]
    }
   ],
   "source": [
    "# Use this, and more code cells, to explore your data. Don't forget to add\n",
    "#   Markdown cells to document your observations and findings.\n",
    "\n",
    "#insert function with three parameters\n",
    "data.insert(2,'profit_earned',data['revenue']-data['budget'])\n",
    "print(data.head(2))\n",
    "print('-------------------------')\n"
   ]
  },
  {
   "cell_type": "markdown",
   "metadata": {},
   "source": [
    ">Preview the changes in the data set"
   ]
  },
  {
   "cell_type": "code",
   "execution_count": 80,
   "metadata": {
    "scrolled": false
   },
   "outputs": [
    {
     "name": "stdout",
     "output_type": "stream",
     "text": [
      "                                                                   1386  \\\n",
      "budget                                                        237000000   \n",
      "revenue                                                      2781505847   \n",
      "profit_earned                                                2544505847   \n",
      "original_title                                                   Avatar   \n",
      "cast                  Sam Worthington|Zoe Saldana|Sigourney Weaver|S...   \n",
      "director                                                  James Cameron   \n",
      "tagline                                     Enter the World of Pandora.   \n",
      "runtime                                                             162   \n",
      "genres                         Action|Adventure|Fantasy|Science Fiction   \n",
      "production_companies  Ingenious Film Partners|Twentieth Century Fox ...   \n",
      "release_date                                        2009-12-10 00:00:00   \n",
      "vote_count                                                         8458   \n",
      "release_year                                                       2009   \n",
      "\n",
      "                                                                   2244  \n",
      "budget                                                        425000000  \n",
      "revenue                                                        11087569  \n",
      "profit_earned                                                -413912431  \n",
      "original_title                                        The Warrior's Way  \n",
      "cast                  Kate Bosworth|Jang Dong-gun|Geoffrey Rush|Dann...  \n",
      "director                                                     Sngmoo Lee  \n",
      "tagline                                         Assassin. Hero. Legend.  \n",
      "runtime                                                             100  \n",
      "genres                        Adventure|Fantasy|Action|Western|Thriller  \n",
      "production_companies                           Boram Entertainment Inc.  \n",
      "release_date                                        2010-12-02 00:00:00  \n",
      "vote_count                                                           74  \n",
      "release_year                                                       2010  \n"
     ]
    }
   ],
   "source": [
    "def calc(colum):\n",
    "    #for highest earned profit\n",
    "    high = pd.DataFrame(data.loc[data[colum].idxmax()])\n",
    "    #for lowest earned profit\n",
    "    low = pd.DataFrame(data.loc[data[colum].idxmin()])\n",
    "\n",
    "    informations = pd.concat([high, low], axis=1)\n",
    "\n",
    "    return informations\n",
    "\n",
    "# call the funcyion to knowing highest profit_earned and lowest profit_earned\n",
    "print(calc('profit_earned'))"
   ]
  },
  {
   "cell_type": "markdown",
   "metadata": {},
   "source": [
    "> Column 1368 shows the highest profit_earned (2544505847) .\n",
    "\n",
    "> column 2244 show the lowest profit_earned (-413912431) ."
   ]
  },
  {
   "cell_type": "markdown",
   "metadata": {},
   "source": [
    "# Research Question 2 : Movies with largest and lowest budgets"
   ]
  },
  {
   "cell_type": "markdown",
   "metadata": {},
   "source": [
    ">call the funcyion to knowing largest budget and smallest budget"
   ]
  },
  {
   "cell_type": "code",
   "execution_count": 84,
   "metadata": {
    "scrolled": false
   },
   "outputs": [
    {
     "name": "stdout",
     "output_type": "stream",
     "text": [
      "                                                                   2244  \\\n",
      "budget                                                        425000000   \n",
      "revenue                                                        11087569   \n",
      "profit_earned                                                -413912431   \n",
      "original_title                                        The Warrior's Way   \n",
      "cast                  Kate Bosworth|Jang Dong-gun|Geoffrey Rush|Dann...   \n",
      "director                                                     Sngmoo Lee   \n",
      "tagline                                         Assassin. Hero. Legend.   \n",
      "runtime                                                             100   \n",
      "genres                        Adventure|Fantasy|Action|Western|Thriller   \n",
      "production_companies                           Boram Entertainment Inc.   \n",
      "release_date                                        2010-12-02 00:00:00   \n",
      "vote_count                                                           74   \n",
      "release_year                                                       2010   \n",
      "\n",
      "                                                                   2618  \n",
      "budget                                                                1  \n",
      "revenue                                                             100  \n",
      "profit_earned                                                        99  \n",
      "original_title                                             Lost & Found  \n",
      "cast                  David Spade|Sophie Marceau|Ever Carradine|Step...  \n",
      "director                                                   Jeff Pollack  \n",
      "tagline               A comedy about a guy who would do anything to ...  \n",
      "runtime                                                              95  \n",
      "genres                                                   Comedy|Romance  \n",
      "production_companies           Alcon Entertainment|Dinamo Entertainment  \n",
      "release_date                                        1999-04-23 00:00:00  \n",
      "vote_count                                                           14  \n",
      "release_year                                                       1999  \n",
      "-------------------------\n"
     ]
    }
   ],
   "source": [
    "# we will call the same function again\n",
    "print(calc('budget'))\n",
    "print('-------------------------')"
   ]
  },
  {
   "cell_type": "markdown",
   "metadata": {},
   "source": [
    ">Column 2244 shows the largest budget  (425000000 $).\n",
    "\n",
    ">column 2618 shows the smallest budget  (1 $) "
   ]
  },
  {
   "cell_type": "markdown",
   "metadata": {},
   "source": [
    "## Research Question 3 : Movies with longest and shortest runtime"
   ]
  },
  {
   "cell_type": "markdown",
   "metadata": {},
   "source": [
    "> call the funcyion to knowing longest runtime and shortest runtime"
   ]
  },
  {
   "cell_type": "code",
   "execution_count": 85,
   "metadata": {
    "scrolled": true
   },
   "outputs": [
    {
     "name": "stdout",
     "output_type": "stream",
     "text": [
      "                                                                   2107  \\\n",
      "budget                                                         18000000   \n",
      "revenue                                                          871279   \n",
      "profit_earned                                                 -17128721   \n",
      "original_title                                                   Carlos   \n",
      "cast                  Edgar RamÃ­rez|Alexander Scheer|Fadi Abi Samra...   \n",
      "director                                                Olivier Assayas   \n",
      "tagline                                  The man who hijacked the world   \n",
      "runtime                                                             338   \n",
      "genres                                     Crime|Drama|Thriller|History   \n",
      "production_companies  Egoli Tossell Film AG|Canal+|Arte France|Films...   \n",
      "release_date                                        2010-05-19 00:00:00   \n",
      "vote_count                                                           35   \n",
      "release_year                                                       2010   \n",
      "\n",
      "                                                                   5162  \n",
      "budget                                                               10  \n",
      "revenue                                                               5  \n",
      "profit_earned                                                        -5  \n",
      "original_title                                              Kid's Story  \n",
      "cast                  Clayton Watson|Keanu Reeves|Carrie-Anne Moss|K...  \n",
      "director                                            Shinichiro Watanabe  \n",
      "tagline                                                             NaN  \n",
      "runtime                                                              15  \n",
      "genres                                        Science Fiction|Animation  \n",
      "production_companies                                        Studio 4Â°C  \n",
      "release_date                                        2003-06-02 00:00:00  \n",
      "vote_count                                                           16  \n",
      "release_year                                                       2003  \n",
      "-------------------------\n"
     ]
    }
   ],
   "source": [
    "# we will call the same function again\n",
    "print(calc('runtime'))\n",
    "print('-------------------------')"
   ]
  },
  {
   "cell_type": "markdown",
   "metadata": {},
   "source": [
    ">Column 2107 shows the longest runtime (338 minutes) .\n",
    "\n",
    ">column 5162 shows the shortest runtime (15 minutes)."
   ]
  },
  {
   "cell_type": "markdown",
   "metadata": {},
   "source": [
    "# Research Question 4 : Movies with most and least earned revenue"
   ]
  },
  {
   "cell_type": "markdown",
   "metadata": {},
   "source": [
    "call the funcyion to knowinglargest revenue earned and  smallest revenue earned"
   ]
  },
  {
   "cell_type": "code",
   "execution_count": 86,
   "metadata": {
    "scrolled": true
   },
   "outputs": [
    {
     "name": "stdout",
     "output_type": "stream",
     "text": [
      "                                                                   1386  \\\n",
      "budget                                                        237000000   \n",
      "revenue                                                      2781505847   \n",
      "profit_earned                                                2544505847   \n",
      "original_title                                                   Avatar   \n",
      "cast                  Sam Worthington|Zoe Saldana|Sigourney Weaver|S...   \n",
      "director                                                  James Cameron   \n",
      "tagline                                     Enter the World of Pandora.   \n",
      "runtime                                                             162   \n",
      "genres                         Action|Adventure|Fantasy|Science Fiction   \n",
      "production_companies  Ingenious Film Partners|Twentieth Century Fox ...   \n",
      "release_date                                        2009-12-10 00:00:00   \n",
      "vote_count                                                         8458   \n",
      "release_year                                                       2009   \n",
      "\n",
      "                                                                   5067  \n",
      "budget                                                          6000000  \n",
      "revenue                                                               2  \n",
      "profit_earned                                                  -5999998  \n",
      "original_title                                          Shattered Glass  \n",
      "cast                  Hayden Christensen|Peter Sarsgaard|ChloÃ« Sevi...  \n",
      "director                                                      Billy Ray  \n",
      "tagline                                                             NaN  \n",
      "runtime                                                              94  \n",
      "genres                                                    Drama|History  \n",
      "production_companies  Lions Gate Films|Cruise/Wagner Productions|Bau...  \n",
      "release_date                                        2003-11-14 00:00:00  \n",
      "vote_count                                                           46  \n",
      "release_year                                                       2003  \n",
      "-------------------------\n"
     ]
    }
   ],
   "source": [
    "# we will call the same function again\n",
    "print(calc('revenue'))\n",
    "print('-------------------------')"
   ]
  },
  {
   "cell_type": "markdown",
   "metadata": {},
   "source": [
    ">Column 1386 shows the largest revenue earned  (2781505847 $) .\n",
    "\n",
    ">column 5067 shows the smallest revenue earned (2 $) ."
   ]
  },
  {
   "cell_type": "markdown",
   "metadata": {},
   "source": [
    "### Research Question 5  (Average runtime of the movies)"
   ]
  },
  {
   "cell_type": "markdown",
   "metadata": {},
   "source": [
    " I need a function to Average runtime of the movies"
   ]
  },
  {
   "cell_type": "code",
   "execution_count": 87,
   "metadata": {
    "scrolled": true
   },
   "outputs": [
    {
     "name": "stdout",
     "output_type": "stream",
     "text": [
      "109.22029060716139\n",
      "-------------------------\n"
     ]
    }
   ],
   "source": [
    "# Continue to explore the data to address your additional research\n",
    "#   questions. Add more headers as needed if you have more questions to\n",
    "#   investigate.\n",
    "\n",
    "# column average function\n",
    "def fun(column):\n",
    "    return data[column].mean()\n",
    "\n",
    "# function call\n",
    "print(fun('runtime'))\n",
    "print('-------------------------')"
   ]
  },
  {
   "cell_type": "markdown",
   "metadata": {},
   "source": [
    ">the average runtime a movie is 109 minutes. "
   ]
  },
  {
   "cell_type": "markdown",
   "metadata": {},
   "source": [
    "### Research Question 6 (Most popular genres over the years Vs Genres)"
   ]
  },
  {
   "cell_type": "code",
   "execution_count": 88,
   "metadata": {},
   "outputs": [
    {
     "data": {
      "text/plain": [
       "<function matplotlib.pyplot.show(*args, **kw)>"
      ]
     },
     "execution_count": 88,
     "metadata": {},
     "output_type": "execute_result"
    },
    {
     "data": {
      "image/png": "[encoded data removed]",
      "text/plain": [
       "<matplotlib.figure.Figure at 0x7f70c6647f98>"
      ]
     },
     "metadata": {
      "needs_background": "light"
     },
     "output_type": "display_data"
    }
   ],
   "source": [
    "dg = data['genres'].str.get_dummies(sep='|')\n",
    "dg1 = dg.sum().reset_index()\n",
    "\n",
    "plt.figure(figsize=(20,10))\n",
    "sns.barplot(x = dg.columns, y = dg.sum(), data = dg1)\n",
    "plt.title('Most popular genres over the years', fontsize = 20)\n",
    "plt.xlabel('Genres', fontsize = 20)\n",
    "plt.ylabel('')\n",
    "plt.xticks(rotation= 90)\n",
    "plt.show"
   ]
  },
  {
   "cell_type": "code",
   "execution_count": 89,
   "metadata": {
    "scrolled": true
   },
   "outputs": [
    {
     "data": {
      "image/png": "[encoded data removed]",
      "text/plain": [
       "<matplotlib.figure.Figure at 0x7f70c804ec50>"
      ]
     },
     "metadata": {
      "needs_background": "light"
     },
     "output_type": "display_data"
    }
   ],
   "source": [
    "#The Second plots is the data points plot of runtime of movies\n",
    "plt.figure(figsize=(10,5), dpi = 105)\n",
    "\n",
    "sns.swarmplot(data['runtime'], color ='yellow')\n",
    "\n",
    "plt.show()"
   ]
  },
  {
   "cell_type": "code",
   "execution_count": 90,
   "metadata": {
    "scrolled": true
   },
   "outputs": [
    {
     "data": {
      "image/png": "[encoded data removed]",
      "text/plain": [
       "<matplotlib.figure.Figure at 0x7f70c7f4c9b0>"
      ]
     },
     "metadata": {
      "needs_background": "light"
     },
     "output_type": "display_data"
    }
   ],
   "source": [
    "plt.figure(figsize=(10,7), dpi = 60 )\n",
    "\n",
    "#The First plot is box plot of the runtime of the movies \n",
    "\n",
    "sns.boxplot(data['runtime'], linewidth = 5, color = 'yellow')\n",
    "\n",
    "plt.show()"
   ]
  },
  {
   "cell_type": "code",
   "execution_count": 91,
   "metadata": {
    "scrolled": true
   },
   "outputs": [
    {
     "data": {
      "text/plain": [
       "count    3854.000000\n",
       "mean      109.220291\n",
       "std        19.922820\n",
       "min        15.000000\n",
       "25%        95.000000\n",
       "50%       106.000000\n",
       "75%       119.000000\n",
       "max       338.000000\n",
       "Name: runtime, dtype: float64"
      ]
     },
     "execution_count": 91,
     "metadata": {},
     "output_type": "execute_result"
    }
   ],
   "source": [
    "data['runtime'].describe()"
   ]
  },
  {
   "cell_type": "code",
   "execution_count": 92,
   "metadata": {
    "scrolled": true
   },
   "outputs": [
    {
     "name": "stdout",
     "output_type": "stream",
     "text": [
      "1     225\n",
      "2     257\n",
      "3     279\n",
      "4     267\n",
      "5     291\n",
      "6     340\n",
      "7     316\n",
      "8     337\n",
      "9     460\n",
      "10    363\n",
      "11    304\n",
      "12    415\n",
      "Name: release_date, dtype: int64\n"
     ]
    }
   ],
   "source": [
    "release = data['release_date'].dt.month.value_counts().sort_index()\n",
    "print(release)"
   ]
  },
  {
   "cell_type": "markdown",
   "metadata": {},
   "source": [
    "### Research Question 7  (Months vs Number Of Movie Releases)"
   ]
  },
  {
   "cell_type": "code",
   "execution_count": 93,
   "metadata": {
    "scrolled": false
   },
   "outputs": [
    {
     "data": {
      "image/png": "[encoded data removed]",
      "text/plain": [
       "<matplotlib.figure.Figure at 0x7f70c8049fd0>"
      ]
     },
     "metadata": {
      "needs_background": "light"
     },
     "output_type": "display_data"
    }
   ],
   "source": [
    "#histogram of Months vs Number Of Movie Releases\n",
    "months=['Jan','Feb','Mar','Apr','May','Jun','Jul','Aug','Sep','Oct','Nov','Dec']\n",
    "\n",
    "release = pd.DataFrame(release)\n",
    "\n",
    "release['month'] = months\n",
    "\n",
    "#change the column name\n",
    "release.rename(columns = {'release_date':'number_of_release'},inplace=True)\n",
    "\n",
    "release.plot(x='month',kind='bar',fontsize = 11,figsize=(8,6), color = 'yellow')\n",
    "\n",
    "#set the labels and titles of the plot.\n",
    "\n",
    "plt.title('Months vs Number Of Movie Releases',fontsize = 15, color = 'red')\n",
    "\n",
    "plt.xlabel('Month',fontsize = 13, color = 'red')\n",
    "\n",
    "plt.ylabel('Number of movie releases',fontsize = 13, color = 'red')\n",
    "\n",
    "plt.show()\n",
    "\n"
   ]
  },
  {
   "cell_type": "code",
   "execution_count": 94,
   "metadata": {},
   "outputs": [
    {
     "data": {
      "image/png": "[encoded data removed]",
      "text/plain": [
       "<matplotlib.figure.Figure at 0x7f70c8feb3c8>"
      ]
     },
     "metadata": {
      "needs_background": "light"
     },
     "output_type": "display_data"
    }
   ],
   "source": [
    "#  histogram of Runtime of the Movies\n",
    "plt.figure(figsize=(9,5), dpi = 100)\n",
    "\n",
    "plt.xlabel('Runtime Movies', fontsize = 15 , color = 'red')\n",
    "\n",
    "plt.ylabel('Nos.of Movies in the Dataset', fontsize=15 , color = 'red')\n",
    "\n",
    "plt.title('Runtime  movies', fontsize=15 , color = 'red')\n",
    "\n",
    "plt.hist(data['runtime'], rwidth = 0.5, bins = 30 , color = 'yellow')\n",
    "\n",
    "plt.show()"
   ]
  },
  {
   "cell_type": "markdown",
   "metadata": {},
   "source": [
    ">Most of the movies are timed between (80) to (115) minutes. Almost (1000) and more no.of movies fall in this criteria."
   ]
  },
  {
   "cell_type": "markdown",
   "metadata": {},
   "source": [
    "> i need getting specific runtime "
   ]
  },
  {
   "cell_type": "code",
   "execution_count": 97,
   "metadata": {},
   "outputs": [
    {
     "data": {
      "text/plain": [
       "count    3854.000000\n",
       "mean      109.220291\n",
       "std        19.922820\n",
       "min        15.000000\n",
       "25%        95.000000\n",
       "50%       106.000000\n",
       "75%       119.000000\n",
       "max       338.000000\n",
       "Name: runtime, dtype: float64"
      ]
     },
     "execution_count": 97,
     "metadata": {},
     "output_type": "execute_result"
    }
   ],
   "source": [
    "# getting  runtime \n",
    "data['runtime'].describe()"
   ]
  },
  {
   "cell_type": "markdown",
   "metadata": {},
   "source": [
    ">After all this, we can conclude that :                   \n",
    ">25% of movies have a runtime of less than 95 minutes                         \n",
    ">50% of movies have a runtime of less than 109 minutes. (median)                 \n",
    ">75% of movies have a runtime of less than 119 minutes                               "
   ]
  },
  {
   "cell_type": "markdown",
   "metadata": {},
   "source": [
    "### Research Question 8 : Year of release vs Profitability"
   ]
  },
  {
   "cell_type": "code",
   "execution_count": 98,
   "metadata": {
    "scrolled": false
   },
   "outputs": [
    {
     "data": {
      "image/png": "[encoded data removed]",
      "text/plain": [
       "<matplotlib.figure.Figure at 0x7f70c7ec57f0>"
      ]
     },
     "metadata": {
      "needs_background": "light"
     },
     "output_type": "display_data"
    }
   ],
   "source": [
    "profits_year = data.groupby('release_year')['profit_earned'].sum()\n",
    "\n",
    "plt.figure(figsize=(12,6), dpi = 100)\n",
    "\n",
    "plt.xlabel('Release Year of Movies', fontsize = 12, color = 'red' )\n",
    "\n",
    "plt.ylabel('Profits earned by Movies', fontsize = 12, color = 'red')\n",
    "\n",
    "plt.title('Year of release vs Profitability.', color = 'red')\n",
    "\n",
    "plt.plot(profits_year)\n",
    "\n",
    "plt.show()"
   ]
  },
  {
   "cell_type": "markdown",
   "metadata": {},
   "source": [
    "> i need to know which year made the highest profit?"
   ]
  },
  {
   "cell_type": "code",
   "execution_count": 99,
   "metadata": {},
   "outputs": [
    {
     "data": {
      "text/plain": [
       "2015"
      ]
     },
     "execution_count": 99,
     "metadata": {},
     "output_type": "execute_result"
    }
   ],
   "source": [
    "#To find that which year made the highest profit?\n",
    "profits_year.idxmax()"
   ]
  },
  {
   "cell_type": "markdown",
   "metadata": {},
   "source": [
    "> we can conclude both graphically as well as by calculations that year 2015 was the year where movies made the highest profit."
   ]
  },
  {
   "cell_type": "code",
   "execution_count": 100,
   "metadata": {
    "scrolled": true
   },
   "outputs": [
    {
     "name": "stdout",
     "output_type": "stream",
     "text": [
      "-------------------------\n",
      "      budget     revenue  profit_earned      original_title  \\\n",
      "1  150000000  1513528810     1363528810      Jurassic World   \n",
      "2  150000000   378436354      228436354  Mad Max: Fury Road   \n",
      "3  110000000   295238201      185238201           Insurgent   \n",
      "\n",
      "                                                cast          director  \\\n",
      "1  Chris Pratt|Bryce Dallas Howard|Irrfan Khan|Vi...   Colin Trevorrow   \n",
      "2  Tom Hardy|Charlize Theron|Hugh Keays-Byrne|Nic...     George Miller   \n",
      "3  Shailene Woodley|Theo James|Kate Winslet|Ansel...  Robert Schwentke   \n",
      "\n",
      "                      tagline  runtime  \\\n",
      "1           The park is open.      124   \n",
      "2          What a Lovely Day.      120   \n",
      "3  One Choice Can Destroy You      119   \n",
      "\n",
      "                                      genres  \\\n",
      "1  Action|Adventure|Science Fiction|Thriller   \n",
      "2  Action|Adventure|Science Fiction|Thriller   \n",
      "3         Adventure|Science Fiction|Thriller   \n",
      "\n",
      "                                production_companies release_date  vote_count  \\\n",
      "1  Universal Studios|Amblin Entertainment|Legenda...   2015-06-09        5562   \n",
      "2  Village Roadshow Pictures|Kennedy Miller Produ...   2015-05-13        6185   \n",
      "3  Summit Entertainment|Mandeville Films|Red Wago...   2015-03-18        2480   \n",
      "\n",
      "   release_year  \n",
      "1          2015  \n",
      "2          2015  \n",
      "3          2015  \n"
     ]
    }
   ],
   "source": [
    "#selecting the movies having profit $50M or more\n",
    "\n",
    "profit_data = data[data['profit_earned'] >= 50000000]\n",
    "\n",
    "profit_data.index = range(len(profit_data))\n",
    "\n",
    "profit_data.index = profit_data.index + 1\n",
    "\n",
    "print('-------------------------')\n",
    "print(profit_data.head(3))\n",
    "\n"
   ]
  },
  {
   "cell_type": "code",
   "execution_count": 101,
   "metadata": {
    "scrolled": false
   },
   "outputs": [
    {
     "name": "stdout",
     "output_type": "stream",
     "text": [
      "1338\n",
      "-------------------------\n"
     ]
    }
   ],
   "source": [
    "#counting the no.of rows in the new data base\n",
    "\n",
    "print(len(profit_data))\n",
    "\n",
    "print('-------------------------')"
   ]
  },
  {
   "cell_type": "markdown",
   "metadata": {},
   "source": [
    ">our dataset is reduced to 1338 from 3853 "
   ]
  },
  {
   "cell_type": "markdown",
   "metadata": {},
   "source": [
    "# Research Question 9 : Succesful Genres"
   ]
  },
  {
   "cell_type": "markdown",
   "metadata": {},
   "source": [
    "> I need to create a function which will take any column as argument from and keep its track"
   ]
  },
  {
   "cell_type": "code",
   "execution_count": 102,
   "metadata": {
    "scrolled": false
   },
   "outputs": [
    {
     "name": "stdout",
     "output_type": "stream",
     "text": [
      "Comedy       492\n",
      "Drama        481\n",
      "Action       464\n",
      "Thriller     405\n",
      "Adventure    379\n",
      "dtype: int64\n",
      "-------------------------\n"
     ]
    }
   ],
   "source": [
    "#function which will take any column as argument from and keep its track \n",
    "\n",
    "def data(colum):\n",
    "    data = profit_data[colum].str.cat(sep='|')\n",
    "\n",
    "    data = pd.Series(data.split('|'))\n",
    "\n",
    "    count = data.value_counts(ascending=False)\n",
    "\n",
    "    return count\n",
    "\n",
    "count = data('genres')\n",
    "\n",
    "print(count.head())\n",
    "print('-------------------------')"
   ]
  },
  {
   "cell_type": "markdown",
   "metadata": {},
   "source": [
    "> This is the information for each section"
   ]
  },
  {
   "cell_type": "markdown",
   "metadata": {},
   "source": [
    "# Research Question 10 : Most Frequent Cast"
   ]
  },
  {
   "cell_type": "markdown",
   "metadata": {},
   "source": [
    "> We will call the same function data again for this analysis."
   ]
  },
  {
   "cell_type": "code",
   "execution_count": 103,
   "metadata": {
    "scrolled": false
   },
   "outputs": [
    {
     "name": "stdout",
     "output_type": "stream",
     "text": [
      "Tom Cruise            27\n",
      "Brad Pitt             25\n",
      "Tom Hanks             22\n",
      "Sylvester Stallone    21\n",
      "Cameron Diaz          20\n",
      "dtype: int64\n"
     ]
    }
   ],
   "source": [
    "#variable to store the retured value\n",
    "count = data('cast')\n",
    "print(count.head())"
   ]
  },
  {
   "cell_type": "markdown",
   "metadata": {},
   "source": [
    "> Tom Cruise is on the top with total 27 cast followed by Brad Pitt with 25 and Tom Hanks with 22."
   ]
  },
  {
   "cell_type": "markdown",
   "metadata": {},
   "source": [
    "## Research Question 11 : Budget of the movies"
   ]
  },
  {
   "cell_type": "code",
   "execution_count": 104,
   "metadata": {
    "scrolled": true
   },
   "outputs": [
    {
     "name": "stdout",
     "output_type": "stream",
     "text": [
      "60444957.76083707\n",
      "-------------------------\n"
     ]
    }
   ],
   "source": [
    "#New function to find average \n",
    "def avg_of_profit(colum):\n",
    "    avg = profit_data[colum].mean()\n",
    "    return avg\n",
    "\n",
    "# call a function with  budget\n",
    "print(avg_of_profit('budget'))\n",
    "\n",
    "print('-------------------------')"
   ]
  },
  {
   "cell_type": "markdown",
   "metadata": {},
   "source": [
    "> the movies having profit of 50 million dollar and more have an average budget of 60 million dollar."
   ]
  },
  {
   "cell_type": "markdown",
   "metadata": {},
   "source": [
    "# Research Question 12 : duration of the movies"
   ]
  },
  {
   "cell_type": "code",
   "execution_count": 105,
   "metadata": {},
   "outputs": [
    {
     "name": "stdout",
     "output_type": "stream",
     "text": [
      "113.66741405082212\n",
      "-------------------------\n"
     ]
    }
   ],
   "source": [
    "# call a function with  runtime\n",
    "print(avg_of_profit('runtime'))\n",
    "\n",
    "print('-------------------------')"
   ]
  },
  {
   "cell_type": "markdown",
   "metadata": {},
   "source": [
    "> the movies having profit of 50 million dollar and more have an average duration of 113 minutes."
   ]
  },
  {
   "cell_type": "markdown",
   "metadata": {},
   "source": [
    "# Research Question 13 : Revenue earned by the movies"
   ]
  },
  {
   "cell_type": "code",
   "execution_count": 106,
   "metadata": {
    "scrolled": true
   },
   "outputs": [
    {
     "name": "stdout",
     "output_type": "stream",
     "text": [
      "254957662.59491777\n",
      "-------------------------\n"
     ]
    }
   ],
   "source": [
    "# call a function with  revenue\n",
    "print(avg_of_profit('revenue'))\n",
    "\n",
    "print('-------------------------')"
   ]
  },
  {
   "cell_type": "markdown",
   "metadata": {},
   "source": [
    "> the movies having profit of 50 million dollar and more have an average revenue of 255 million dollar."
   ]
  },
  {
   "cell_type": "markdown",
   "metadata": {},
   "source": [
    "<a id='conclusions'></a>\n",
    "## Conclusions\n",
    "# This was a very interesting data analysis.  After this analysis we can conclude following :\n",
    "\n",
    "> 1) One successful movie could bring in 254 million dollars.          \n",
    "> 2) Average Budget must be around 60 millon dollar .     \n",
    "> 3) Genre must be (Action, Adventure, Thriller, Comedy, Drama) .          \n",
    "> 4) Any one of these should be in the cast (Tom Cruise, Brad Pitt, Tom Hanks, Sylvester Stallone,Cameron Diaz) .           \n",
    "> 5) Average duration of the movie must be 113 minutes .\n",
    "\n",
    "\n",
    "\n",
    "## Submitting your Project \n",
    "\n",
    "> **Tip**: Before you submit your project, you need to create a .html or .pdf version of this notebook in the workspace here. To do that, run the code cell below. If it worked correctly, you should get a return code of 0, and you should see the generated .html file in the workspace directory (click on the orange Jupyter icon in the upper left).\n",
    "\n",
    "> **Tip**: Alternatively, you can download this report as .html via the **File** > **Download as** submenu, and then manually upload it into the workspace directory by clicking on the orange Jupyter icon in the upper left, then using the Upload button.\n",
    "\n",
    "> **Tip**: Once you've done this, you can submit your project by clicking on the \"Submit Project\" button in the lower right here. This will create and submit a zip file with this .ipynb doc and the .html or .pdf version you created. Congratulations!"
   ]
  },
  {
   "cell_type": "code",
   "execution_count": 68,
   "metadata": {},
   "outputs": [
    {
     "data": {
      "text/plain": [
       "0"
      ]
     },
     "execution_count": 68,
     "metadata": {},
     "output_type": "execute_result"
    }
   ],
   "source": [
    "from subprocess import call\n",
    "call(['python', '-m', 'nbconvert', 'Investigate_a_Dataset.ipynb'])"
   ]
  },
  {
   "cell_type": "code",
   "execution_count": null,
   "metadata": {},
   "outputs": [],
   "source": []
  }
 ],
 "metadata": {
  "kernelspec": {
   "display_name": "Python 3",
   "language": "python",
   "name": "python3"
  },
  "language_info": {
   "codemirror_mode": {
    "name": "ipython",
    "version": 3
   },
   "file_extension": ".py",
   "mimetype": "text/x-python",
   "name": "python",
   "nbconvert_exporter": "python",
   "pygments_lexer": "ipython3",
   "version": "3.6.3"
  }
 },
 "nbformat": 4,
 "nbformat_minor": 2
}
